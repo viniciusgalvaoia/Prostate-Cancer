{
 "cells": [
  {
   "cell_type": "markdown",
   "metadata": {},
   "source": [
    "# Auxiliando o diagnóstico do câncer de próstata | Parte 2 - Data Visualization\n",
    "![](prostate.png)"
   ]
  },
  {
   "cell_type": "markdown",
   "metadata": {},
   "source": [
    "## 1. Obtendo o dataset\n",
    "\n",
    "- https://www.kaggle.com/sajidsaifi/prostate-cancer "
   ]
  },
  {
   "cell_type": "markdown",
   "metadata": {},
   "source": [
    "## 2. Visualizando e explorando nosso dataset"
   ]
  },
  {
   "cell_type": "code",
   "execution_count": 3,
   "metadata": {},
   "outputs": [
    {
     "name": "stdout",
     "output_type": "stream",
     "text": [
      "(100, 10)\n"
     ]
    },
    {
     "data": {
      "text/html": [
       "<div>\n",
       "<style scoped>\n",
       "    .dataframe tbody tr th:only-of-type {\n",
       "        vertical-align: middle;\n",
       "    }\n",
       "\n",
       "    .dataframe tbody tr th {\n",
       "        vertical-align: top;\n",
       "    }\n",
       "\n",
       "    .dataframe thead th {\n",
       "        text-align: right;\n",
       "    }\n",
       "</style>\n",
       "<table border=\"1\" class=\"dataframe\">\n",
       "  <thead>\n",
       "    <tr style=\"text-align: right;\">\n",
       "      <th></th>\n",
       "      <th>id</th>\n",
       "      <th>diagnosis_result</th>\n",
       "      <th>radius</th>\n",
       "      <th>texture</th>\n",
       "      <th>perimeter</th>\n",
       "      <th>area</th>\n",
       "      <th>smoothness</th>\n",
       "      <th>compactness</th>\n",
       "      <th>symmetry</th>\n",
       "      <th>fractal_dimension</th>\n",
       "    </tr>\n",
       "  </thead>\n",
       "  <tbody>\n",
       "    <tr>\n",
       "      <th>0</th>\n",
       "      <td>1</td>\n",
       "      <td>M</td>\n",
       "      <td>23</td>\n",
       "      <td>12</td>\n",
       "      <td>151</td>\n",
       "      <td>954</td>\n",
       "      <td>0.143</td>\n",
       "      <td>0.278</td>\n",
       "      <td>0.242</td>\n",
       "      <td>0.079</td>\n",
       "    </tr>\n",
       "    <tr>\n",
       "      <th>1</th>\n",
       "      <td>2</td>\n",
       "      <td>B</td>\n",
       "      <td>9</td>\n",
       "      <td>13</td>\n",
       "      <td>133</td>\n",
       "      <td>1326</td>\n",
       "      <td>0.143</td>\n",
       "      <td>0.079</td>\n",
       "      <td>0.181</td>\n",
       "      <td>0.057</td>\n",
       "    </tr>\n",
       "    <tr>\n",
       "      <th>2</th>\n",
       "      <td>3</td>\n",
       "      <td>M</td>\n",
       "      <td>21</td>\n",
       "      <td>27</td>\n",
       "      <td>130</td>\n",
       "      <td>1203</td>\n",
       "      <td>0.125</td>\n",
       "      <td>0.160</td>\n",
       "      <td>0.207</td>\n",
       "      <td>0.060</td>\n",
       "    </tr>\n",
       "    <tr>\n",
       "      <th>3</th>\n",
       "      <td>4</td>\n",
       "      <td>M</td>\n",
       "      <td>14</td>\n",
       "      <td>16</td>\n",
       "      <td>78</td>\n",
       "      <td>386</td>\n",
       "      <td>0.070</td>\n",
       "      <td>0.284</td>\n",
       "      <td>0.260</td>\n",
       "      <td>0.097</td>\n",
       "    </tr>\n",
       "    <tr>\n",
       "      <th>4</th>\n",
       "      <td>5</td>\n",
       "      <td>M</td>\n",
       "      <td>9</td>\n",
       "      <td>19</td>\n",
       "      <td>135</td>\n",
       "      <td>1297</td>\n",
       "      <td>0.141</td>\n",
       "      <td>0.133</td>\n",
       "      <td>0.181</td>\n",
       "      <td>0.059</td>\n",
       "    </tr>\n",
       "  </tbody>\n",
       "</table>\n",
       "</div>"
      ],
      "text/plain": [
       "   id diagnosis_result  radius  texture  perimeter  area  smoothness  \\\n",
       "0   1                M      23       12        151   954       0.143   \n",
       "1   2                B       9       13        133  1326       0.143   \n",
       "2   3                M      21       27        130  1203       0.125   \n",
       "3   4                M      14       16         78   386       0.070   \n",
       "4   5                M       9       19        135  1297       0.141   \n",
       "\n",
       "   compactness  symmetry  fractal_dimension  \n",
       "0        0.278     0.242              0.079  \n",
       "1        0.079     0.181              0.057  \n",
       "2        0.160     0.207              0.060  \n",
       "3        0.284     0.260              0.097  \n",
       "4        0.133     0.181              0.059  "
      ]
     },
     "execution_count": 3,
     "metadata": {},
     "output_type": "execute_result"
    }
   ],
   "source": [
    "import pandas as pd\n",
    "data = pd.read_csv(\"prostate-cancer/Prostate_Cancer.csv\")\n",
    "print(data.shape)\n",
    "data.head()"
   ]
  },
  {
   "cell_type": "markdown",
   "metadata": {},
   "source": [
    "### 2.1 Visualizando a quantidade de instâncias de cada classe "
   ]
  },
  {
   "cell_type": "code",
   "execution_count": 5,
   "metadata": {},
   "outputs": [
    {
     "name": "stdout",
     "output_type": "stream",
     "text": [
      "M    62\n",
      "B    38\n",
      "Name: diagnosis_result, dtype: int64\n"
     ]
    },
    {
     "data": {
      "image/png": "[encoded data removed]",
      "text/plain": [
       "<Figure size 432x288 with 1 Axes>"
      ]
     },
     "metadata": {
      "needs_background": "light"
     },
     "output_type": "display_data"
    }
   ],
   "source": [
    "# Visualizando a distribuição de classes\n",
    "print(data['diagnosis_result'].value_counts())\n",
    "p=data['diagnosis_result'].value_counts().plot(kind=\"bar\")"
   ]
  },
  {
   "cell_type": "markdown",
   "metadata": {},
   "source": [
    "### 2.2 Verificando os tipos de atributos e se o dataset possui missing values"
   ]
  },
  {
   "cell_type": "code",
   "execution_count": 114,
   "metadata": {},
   "outputs": [
    {
     "name": "stdout",
     "output_type": "stream",
     "text": [
      "<class 'pandas.core.frame.DataFrame'>\n",
      "RangeIndex: 100 entries, 0 to 99\n",
      "Data columns (total 10 columns):\n",
      "id                   100 non-null int64\n",
      "diagnosis_result     100 non-null object\n",
      "radius               100 non-null int64\n",
      "texture              100 non-null int64\n",
      "perimeter            100 non-null int64\n",
      "area                 100 non-null int64\n",
      "smoothness           100 non-null float64\n",
      "compactness          100 non-null float64\n",
      "symmetry             100 non-null float64\n",
      "fractal_dimension    100 non-null float64\n",
      "dtypes: float64(4), int64(5), object(1)\n",
      "memory usage: 7.9+ KB\n"
     ]
    }
   ],
   "source": [
    "data.info()"
   ]
  },
  {
   "cell_type": "code",
   "execution_count": 115,
   "metadata": {},
   "outputs": [
    {
     "data": {
      "text/plain": [
       "id                   0\n",
       "diagnosis_result     0\n",
       "radius               0\n",
       "texture              0\n",
       "perimeter            0\n",
       "area                 0\n",
       "smoothness           0\n",
       "compactness          0\n",
       "symmetry             0\n",
       "fractal_dimension    0\n",
       "dtype: int64"
      ]
     },
     "execution_count": 115,
     "metadata": {},
     "output_type": "execute_result"
    }
   ],
   "source": [
    "data.isnull().sum()"
   ]
  },
  {
   "cell_type": "code",
   "execution_count": 9,
   "metadata": {},
   "outputs": [
    {
     "data": {
      "text/plain": [
       "0"
      ]
     },
     "execution_count": 9,
     "metadata": {},
     "output_type": "execute_result"
    }
   ],
   "source": [
    "data['radius'].isnull().sum()"
   ]
  },
  {
   "cell_type": "markdown",
   "metadata": {},
   "source": [
    "### 2.3 Explorando os atributos"
   ]
  },
  {
   "cell_type": "code",
   "execution_count": 10,
   "metadata": {},
   "outputs": [
    {
     "data": {
      "text/html": [
       "<div>\n",
       "<style scoped>\n",
       "    .dataframe tbody tr th:only-of-type {\n",
       "        vertical-align: middle;\n",
       "    }\n",
       "\n",
       "    .dataframe tbody tr th {\n",
       "        vertical-align: top;\n",
       "    }\n",
       "\n",
       "    .dataframe thead th {\n",
       "        text-align: right;\n",
       "    }\n",
       "</style>\n",
       "<table border=\"1\" class=\"dataframe\">\n",
       "  <thead>\n",
       "    <tr style=\"text-align: right;\">\n",
       "      <th></th>\n",
       "      <th>id</th>\n",
       "      <th>radius</th>\n",
       "      <th>texture</th>\n",
       "      <th>perimeter</th>\n",
       "      <th>area</th>\n",
       "      <th>smoothness</th>\n",
       "      <th>compactness</th>\n",
       "      <th>symmetry</th>\n",
       "      <th>fractal_dimension</th>\n",
       "    </tr>\n",
       "  </thead>\n",
       "  <tbody>\n",
       "    <tr>\n",
       "      <th>count</th>\n",
       "      <td>100.000000</td>\n",
       "      <td>100.000000</td>\n",
       "      <td>100.000000</td>\n",
       "      <td>100.000000</td>\n",
       "      <td>100.000000</td>\n",
       "      <td>100.000000</td>\n",
       "      <td>100.000000</td>\n",
       "      <td>100.000000</td>\n",
       "      <td>100.000000</td>\n",
       "    </tr>\n",
       "    <tr>\n",
       "      <th>mean</th>\n",
       "      <td>50.500000</td>\n",
       "      <td>16.850000</td>\n",
       "      <td>18.230000</td>\n",
       "      <td>96.780000</td>\n",
       "      <td>702.880000</td>\n",
       "      <td>0.102730</td>\n",
       "      <td>0.126700</td>\n",
       "      <td>0.193170</td>\n",
       "      <td>0.064690</td>\n",
       "    </tr>\n",
       "    <tr>\n",
       "      <th>std</th>\n",
       "      <td>29.011492</td>\n",
       "      <td>4.879094</td>\n",
       "      <td>5.192954</td>\n",
       "      <td>23.676089</td>\n",
       "      <td>319.710895</td>\n",
       "      <td>0.014642</td>\n",
       "      <td>0.061144</td>\n",
       "      <td>0.030785</td>\n",
       "      <td>0.008151</td>\n",
       "    </tr>\n",
       "    <tr>\n",
       "      <th>min</th>\n",
       "      <td>1.000000</td>\n",
       "      <td>9.000000</td>\n",
       "      <td>11.000000</td>\n",
       "      <td>52.000000</td>\n",
       "      <td>202.000000</td>\n",
       "      <td>0.070000</td>\n",
       "      <td>0.038000</td>\n",
       "      <td>0.135000</td>\n",
       "      <td>0.053000</td>\n",
       "    </tr>\n",
       "    <tr>\n",
       "      <th>25%</th>\n",
       "      <td>25.750000</td>\n",
       "      <td>12.000000</td>\n",
       "      <td>14.000000</td>\n",
       "      <td>82.500000</td>\n",
       "      <td>476.750000</td>\n",
       "      <td>0.093500</td>\n",
       "      <td>0.080500</td>\n",
       "      <td>0.172000</td>\n",
       "      <td>0.059000</td>\n",
       "    </tr>\n",
       "    <tr>\n",
       "      <th>50%</th>\n",
       "      <td>50.500000</td>\n",
       "      <td>17.000000</td>\n",
       "      <td>17.500000</td>\n",
       "      <td>94.000000</td>\n",
       "      <td>644.000000</td>\n",
       "      <td>0.102000</td>\n",
       "      <td>0.118500</td>\n",
       "      <td>0.190000</td>\n",
       "      <td>0.063000</td>\n",
       "    </tr>\n",
       "    <tr>\n",
       "      <th>75%</th>\n",
       "      <td>75.250000</td>\n",
       "      <td>21.000000</td>\n",
       "      <td>22.250000</td>\n",
       "      <td>114.250000</td>\n",
       "      <td>917.000000</td>\n",
       "      <td>0.112000</td>\n",
       "      <td>0.157000</td>\n",
       "      <td>0.209000</td>\n",
       "      <td>0.069000</td>\n",
       "    </tr>\n",
       "    <tr>\n",
       "      <th>max</th>\n",
       "      <td>100.000000</td>\n",
       "      <td>25.000000</td>\n",
       "      <td>27.000000</td>\n",
       "      <td>172.000000</td>\n",
       "      <td>1878.000000</td>\n",
       "      <td>0.143000</td>\n",
       "      <td>0.345000</td>\n",
       "      <td>0.304000</td>\n",
       "      <td>0.097000</td>\n",
       "    </tr>\n",
       "  </tbody>\n",
       "</table>\n",
       "</div>"
      ],
      "text/plain": [
       "               id      radius     texture   perimeter         area  \\\n",
       "count  100.000000  100.000000  100.000000  100.000000   100.000000   \n",
       "mean    50.500000   16.850000   18.230000   96.780000   702.880000   \n",
       "std     29.011492    4.879094    5.192954   23.676089   319.710895   \n",
       "min      1.000000    9.000000   11.000000   52.000000   202.000000   \n",
       "25%     25.750000   12.000000   14.000000   82.500000   476.750000   \n",
       "50%     50.500000   17.000000   17.500000   94.000000   644.000000   \n",
       "75%     75.250000   21.000000   22.250000  114.250000   917.000000   \n",
       "max    100.000000   25.000000   27.000000  172.000000  1878.000000   \n",
       "\n",
       "       smoothness  compactness    symmetry  fractal_dimension  \n",
       "count  100.000000   100.000000  100.000000         100.000000  \n",
       "mean     0.102730     0.126700    0.193170           0.064690  \n",
       "std      0.014642     0.061144    0.030785           0.008151  \n",
       "min      0.070000     0.038000    0.135000           0.053000  \n",
       "25%      0.093500     0.080500    0.172000           0.059000  \n",
       "50%      0.102000     0.118500    0.190000           0.063000  \n",
       "75%      0.112000     0.157000    0.209000           0.069000  \n",
       "max      0.143000     0.345000    0.304000           0.097000  "
      ]
     },
     "execution_count": 10,
     "metadata": {},
     "output_type": "execute_result"
    }
   ],
   "source": [
    "data.describe()"
   ]
  },
  {
   "cell_type": "markdown",
   "metadata": {},
   "source": [
    "### 2.4 Boxplot\n",
    "\n",
    "- Valor máximo\n",
    "- Terceiro quartil (Q3)\n",
    "- Segundo quartil (mediana)\n",
    "- Primeiro quartil (Q1)\n",
    "- Valor mínimo"
   ]
  },
  {
   "cell_type": "code",
   "execution_count": 117,
   "metadata": {},
   "outputs": [
    {
     "data": {
      "image/png": "[encoded data removed]",
      "text/plain": [
       "<Figure size 288x576 with 1 Axes>"
      ]
     },
     "metadata": {
      "needs_background": "light"
     },
     "output_type": "display_data"
    }
   ],
   "source": [
    "import matplotlib.pyplot as plt\n",
    "%matplotlib inline\n",
    "import seaborn as sns\n",
    "\n",
    "plt.figure(figsize=(4,8))\n",
    "ax = sns.boxplot(x=data[\"id\"], orient='v' )\n",
    "plt.show()"
   ]
  },
  {
   "cell_type": "code",
   "execution_count": 118,
   "metadata": {},
   "outputs": [
    {
     "data": {
      "image/png": "[encoded data removed]",
      "text/plain": [
       "<Figure size 288x576 with 1 Axes>"
      ]
     },
     "metadata": {
      "needs_background": "light"
     },
     "output_type": "display_data"
    }
   ],
   "source": [
    "plt.figure(figsize=(4,8))\n",
    "ax = sns.boxplot(x=\"diagnosis_result\", y=\"area\", data=data, linewidth=2.5)\n",
    "plt.show()"
   ]
  },
  {
   "cell_type": "code",
   "execution_count": 53,
   "metadata": {},
   "outputs": [
    {
     "data": {
      "image/png": "[encoded data removed]",
      "text/plain": [
       "<Figure size 1296x576 with 1 Axes>"
      ]
     },
     "metadata": {
      "needs_background": "light"
     },
     "output_type": "display_data"
    }
   ],
   "source": [
    "plt.figure(figsize=(18,8))\n",
    "ax = sns.boxplot(data=data, orient=\"h\")\n",
    "plt.show()"
   ]
  },
  {
   "cell_type": "markdown",
   "metadata": {},
   "source": [
    "### 2.5 Pre-processing"
   ]
  },
  {
   "cell_type": "markdown",
   "metadata": {},
   "source": [
    "#### 2.5.1 StandartScaler\n",
    "\n",
    "Centraliza a média e faz com que as features tenham variância de 1."
   ]
  },
  {
   "cell_type": "code",
   "execution_count": 96,
   "metadata": {},
   "outputs": [
    {
     "name": "stdout",
     "output_type": "stream",
     "text": [
      "[[ 1.26683005e+00 -1.20574648e+00  2.30161118e+00  7.89416627e-01\n",
      "   2.76420965e+00  2.48697022e+00  1.59415115e+00  1.76446414e+00]\n",
      " [-1.61701072e+00 -1.01220772e+00  1.53752042e+00  1.95882960e+00\n",
      "   2.76420965e+00 -7.84061332e-01 -3.97313527e-01 -9.48199109e-01]\n",
      " [ 8.54852801e-01  1.69733493e+00  1.41017196e+00  1.57216886e+00\n",
      "   1.52865530e+00  5.47363571e-01  4.51507484e-01 -5.78290484e-01]\n",
      " [-5.87067586e-01 -4.31591436e-01 -7.97201366e-01 -9.96138662e-01\n",
      "  -2.24664966e+00  2.58559429e+00  2.18179647e+00  3.98391589e+00]\n",
      " [-1.61701072e+00  1.49024846e-01  1.62241939e+00  1.86766568e+00\n",
      "   2.62692583e+00  1.03555270e-01 -3.97313527e-01 -7.01593359e-01]\n",
      " [ 1.67880731e+00  1.31025741e+00 -5.84953931e-01 -7.10072586e-01\n",
      "   1.73458102e+00  7.11737016e-01  5.16801408e-01  1.39455552e+00]\n",
      " [-1.75090333e-01  1.50379617e+00  9.85677088e-01  1.05976479e+00\n",
      "  -5.30601951e-01 -2.90940997e-01 -4.62607451e-01 -9.48199109e-01]\n",
      " [-3.81078959e-01 -4.45139150e-02 -2.87807522e-01 -3.92570677e-01\n",
      "   1.11680385e+00  6.29550293e-01  8.75917990e-01  1.27125264e+00]\n",
      " [ 4.42875547e-01  1.11671865e+00 -3.72706496e-01 -5.74898506e-01\n",
      "   1.66593911e+00  1.08979594e+00  1.36562242e+00  1.14794977e+00]\n",
      " [ 1.67880731e+00 -1.39928524e+00 -5.42504444e-01 -7.13216169e-01\n",
      "   1.11680385e+00  1.86235113e+00  3.20919636e-01  2.13437277e+00]\n",
      " [ 1.47281868e+00  5.36102367e-01  2.64035809e-01  2.99017639e-01\n",
      "  -1.42294676e+00 -9.81309465e-01 -1.31142846e+00 -9.48199109e-01]\n",
      " [ 3.08982940e-02 -6.25130197e-01  3.06485296e-01  2.45576724e-01\n",
      "  -3.93318134e-01  3.78058923e-02 -2.99372641e-01 -4.54987609e-01]\n",
      " [-5.87067586e-01 -6.25130197e-01  1.49507093e+00  1.32068220e+00\n",
      "  -3.93318134e-01  1.96097520e+00  1.52885723e+00  1.64116127e+00]\n",
      " [-9.99044839e-01  7.29641128e-01  3.06485296e-01  2.51863890e-01\n",
      "  -1.28566294e+00 -4.38877098e-01 -2.66725679e-01 -1.44141061e+00]\n",
      " [-9.99044839e-01 -1.01220772e+00 -1.18009574e-01 -3.92570677e-01\n",
      "   7.04952398e-01  1.68154034e+00  4.51507484e-01  1.51785839e+00]\n",
      " [ 1.06084143e+00  1.49024846e-01  9.33888714e-03 -1.37940433e-01\n",
      "   7.73594306e-01  5.47363571e-01  1.20238761e+00  7.78041142e-01]\n",
      " [-1.41102209e+00 -4.31591436e-01 -7.55600868e-02 -5.62072686e-02\n",
      "  -2.56034318e-01 -8.99122743e-01 -1.11554669e+00 -7.01593359e-01]\n",
      " [-3.81078959e-01 -8.18668958e-01  4.76283244e-01  3.02161223e-01\n",
      "   9.79520031e-01  1.23773204e+00  7.45330142e-01  1.14794977e+00]\n",
      " [ 6.48864174e-01 -8.18668958e-01  1.41017196e+00  1.75135310e+00\n",
      "  -3.24676226e-01 -3.89565064e-01 -1.14819365e+00 -1.31810773e+00]\n",
      " [ 3.08982940e-02 -1.39928524e+00 -4.15155983e-01 -4.30293676e-01\n",
      "  -3.24676226e-01 -7.51186643e-01 -1.36137831e-01 -8.24896234e-01]\n",
      " [-1.75090333e-01 -8.18668958e-01 -4.57605470e-01 -5.74898506e-01\n",
      "   3.61742857e-01  4.93120334e-03  1.25037864e-01  4.08132516e-01]\n",
      " [ 3.08982940e-02  1.11671865e+00 -1.56129213e+00 -1.34821999e+00\n",
      "  -5.01085930e-02 -1.01418415e+00 -3.64666565e-01  5.31435391e-01]\n",
      " [ 6.48864174e-01  1.69733493e+00  2.64035809e-01  3.52081325e-03\n",
      "   2.93100948e-01  1.43498017e+00  1.92062077e+00  6.54738267e-01]\n",
      " [ 4.42875547e-01 -1.20574648e+00  1.70731837e+00  2.20402909e+00\n",
      "  -5.99243859e-01 -4.06002409e-01 -5.27901375e-01 -1.44141061e+00]\n",
      " [-1.61701072e+00 -1.01220772e+00  5.61182218e-01  6.35381048e-01\n",
      "   6.36310490e-01  3.17240748e-01  2.22978750e-01 -2.08381859e-01]\n",
      " [ 4.42875547e-01  1.69733493e+00  8.15879140e-01  6.60529714e-01\n",
      "   1.11680385e+00  1.66510300e+00  3.61826279e+00  1.14794977e+00]\n",
      " [-1.41102209e+00  1.11671865e+00  9.33888714e-03 -1.81950599e-01\n",
      "   1.55817132e-01  9.91171872e-01  1.03915280e+00  5.31435391e-01]\n",
      " [-1.75090333e-01  1.11671865e+00  1.07057606e+00  1.22951828e+00\n",
      "  -5.99243859e-01 -3.23815686e-01 -7.56430109e-01 -9.48199109e-01]\n",
      " [-3.81078959e-01 -6.25130197e-01  2.21586322e-01  9.15411444e-02\n",
      "   3.61742857e-01  7.11737016e-01 -5.54998353e-03  3.82238913e-02]\n",
      " [-1.20503347e+00 -4.31591436e-01  7.73429653e-01  7.92560211e-01\n",
      "  -3.24676226e-01 -1.75879586e-01 -6.25842261e-01 -4.54987609e-01]\n",
      " [-1.20503347e+00  7.29641128e-01  1.19792452e+00  1.21065678e+00\n",
      "   2.24459040e-01  1.02404656e+00  8.10624066e-01 -3.31684734e-01]\n",
      " [ 1.26683005e+00  1.50379617e+00 -7.97201366e-01 -8.23241583e-01\n",
      "   5.67668581e-01  4.15864815e-01  1.20238761e+00  1.64116127e+00]\n",
      " [ 6.48864174e-01 -4.45139150e-02  6.88530679e-01  6.16519548e-01\n",
      "   1.18544576e+00  3.82990126e-01  1.03915280e+00 -8.50789838e-02]\n",
      " [-1.20503347e+00  5.36102367e-01  1.32527298e+00  1.44328194e+00\n",
      "  -5.99243859e-01  7.44611705e-01 -2.66725679e-01 -2.08381859e-01]\n",
      " [-1.75090333e-01  9.23179889e-01  4.33833757e-01  3.27309889e-01\n",
      "   8.71752235e-02  4.81614193e-01  2.22978750e-01  3.82238913e-02]\n",
      " [-1.41102209e+00 -1.01220772e+00  5.61182218e-01  5.25355634e-01\n",
      "  -4.61960043e-01  1.19992615e-01 -1.03490869e-01 -9.48199109e-01]\n",
      " [ 2.36886921e-01 -1.20574648e+00 -1.18009574e-01 -2.19673598e-01\n",
      "  -3.24676226e-01 -2.74503653e-01 -1.36137831e-01 -4.54987609e-01]\n",
      " [ 8.54852801e-01 -1.39928524e+00 -5.84953931e-01 -5.62324173e-01\n",
      "  -8.73811492e-01 -1.45799246e+00 -1.50731023e+00 -7.01593359e-01]\n",
      " [-1.20503347e+00 -6.25130197e-01 -3.31105999e-02 -1.21971030e-02\n",
      "  -5.99243859e-01 -1.24430698e+00 -1.18084061e+00 -1.19480486e+00]\n",
      " [-1.41102209e+00 -8.18668958e-01 -3.72706496e-01 -4.52298759e-01\n",
      "  -5.01085930e-02 -1.15061411e-02 -6.91136185e-01 -8.50789838e-02]\n",
      " [ 1.47281868e+00 -4.31591436e-01 -4.57605470e-01 -4.39724426e-01\n",
      "  -1.42294676e+00 -1.09637088e+00 -4.95254413e-01 -1.07150198e+00]\n",
      " [ 4.42875547e-01  1.69733493e+00 -1.05189829e+00 -1.04329241e+00\n",
      "   1.39137148e+00 -7.72555190e-02 -1.03490869e-01  5.31435391e-01]\n",
      " [-1.20503347e+00 -1.39928524e+00  1.32527298e+00  1.26095412e+00\n",
      "  -8.05169584e-01  1.51716690e+00  1.23503457e+00 -2.08381859e-01]\n",
      " [-3.81078959e-01  5.36102367e-01 -4.15155983e-01 -4.96308924e-01\n",
      "   8.71752235e-02  2.84366059e-01  1.25037864e-01  4.08132516e-01]\n",
      " [-1.41102209e+00 -6.25130197e-01 -5.00054957e-01 -5.37175507e-01\n",
      "  -3.93318134e-01 -3.56690375e-01 -5.93195299e-01 -3.31684734e-01]\n",
      " [ 2.36886921e-01 -1.39928524e+00  1.15547504e+00  1.17293378e+00\n",
      "   4.99026673e-01  6.95299671e-01 -7.08439075e-02 -5.78290484e-01]\n",
      " [ 1.06084143e+00 -1.20574648e+00 -1.90088803e+00 -1.57455798e+00\n",
      "  -1.14837913e+00 -1.11280822e+00 -5.27901375e-01  3.82238913e-02]\n",
      " [ 6.48864174e-01 -8.18668958e-01 -4.57605470e-01 -5.27744757e-01\n",
      "   9.10878123e-01 -6.08181746e-02  6.47389256e-01  4.08132516e-01]\n",
      " [ 6.48864174e-01  5.36102367e-01 -7.97201366e-01 -7.98092917e-01\n",
      "   1.85333152e-02 -5.86813198e-01 -8.21724033e-01 -5.78290484e-01]\n",
      " [ 1.67880731e+00 -1.39928524e+00 -4.15155983e-01 -4.46011592e-01\n",
      "  -1.01109531e+00 -8.16936020e-01 -3.97313527e-01 -9.48199109e-01]\n",
      " [ 4.42875547e-01  1.31025741e+00 -9.24549827e-01 -8.64108165e-01\n",
      "  -1.14837913e+00 -1.26074432e+00 -1.40936935e+00 -7.01593359e-01]\n",
      " [ 4.42875547e-01  7.29641128e-01 -4.15155983e-01 -4.11432177e-01\n",
      "  -1.76615630e+00 -1.07993353e+00 -1.89907378e+00 -5.78290484e-01]\n",
      " [ 1.67880731e+00 -6.25130197e-01 -8.82100340e-01 -8.32672333e-01\n",
      "  -1.35430485e+00 -1.29361901e+00 -2.01431755e-01 -4.54987609e-01]\n",
      " [-5.87067586e-01  1.50379617e+00  9.85677088e-01  1.03775970e+00\n",
      "   8.42236215e-01  3.66552782e-01  5.16801408e-01 -2.08381859e-01]\n",
      " [ 2.36886921e-01  1.31025741e+00  9.33888714e-03  3.18130626e-02\n",
      "  -8.05169584e-01 -9.15560087e-01 -1.01760580e+00 -9.48199109e-01]\n",
      " [ 2.36886921e-01 -1.01220772e+00 -1.00944880e+00 -9.23836247e-01\n",
      "  -5.30601951e-01 -1.17855760e+00 -3.81969455e-02 -7.01593359e-01]\n",
      " [-1.41102209e+00  1.49024846e-01  1.24037401e+00  1.41184611e+00\n",
      "   1.55817132e-01  4.93120334e-03 -3.81969455e-02 -5.78290484e-01]\n",
      " [ 3.08982940e-02  3.42563607e-01 -3.31105999e-02 -1.44227600e-01\n",
      "   7.73594306e-01  1.69304648e-01  3.20919636e-01  4.08132516e-01]\n",
      " [ 1.06084143e+00 -6.25130197e-01 -5.84953931e-01 -5.52893423e-01\n",
      "  -1.49158867e+00 -1.45799246e+00 -3.64666565e-01 -1.19480486e+00]\n",
      " [ 1.26683005e+00  1.50379617e+00 -1.81598905e+00 -1.50225557e+00\n",
      "  -3.24676226e-01 -1.21143229e+00 -8.21724033e-01  9.01344017e-01]\n",
      " [-3.81078959e-01 -4.45139150e-02 -1.34904470e+00 -1.22876382e+00\n",
      "   7.04952398e-01 -7.51186643e-01  2.63885394e+00  6.54738267e-01]\n",
      " [ 1.67880731e+00 -6.25130197e-01 -1.77353957e+00 -1.51168632e+00\n",
      "   1.46001339e+00 -6.03250542e-01 -3.32019603e-01  4.08132516e-01]\n",
      " [-9.99044839e-01  7.29641128e-01 -3.31105999e-02 -1.78807016e-01\n",
      "   1.55817132e-01  1.22129469e+00  5.97439404e-02  1.02464689e+00]\n",
      " [ 1.47281868e+00 -2.38052676e-01 -1.60374162e+00 -1.38908657e+00\n",
      "  -1.76615630e+00 -6.36125231e-01  1.33297546e+00  6.54738267e-01]\n",
      " [-1.75090333e-01  1.49024846e-01 -5.84953931e-01 -6.40913754e-01\n",
      "   6.36310490e-01 -1.15061411e-02 -7.08439075e-02  1.61526766e-01]\n",
      " [-1.20503347e+00  5.36102367e-01  9.33888714e-03 -1.09648184e-01\n",
      "   9.79520031e-01  3.50115437e-01  5.97439404e-02  2.84829641e-01]\n",
      " [-9.99044839e-01 -1.01220772e+00 -1.56129213e+00 -1.36393790e+00\n",
      "   8.71752235e-02 -8.00498676e-01 -6.91136185e-01  5.31435391e-01]\n",
      " [ 2.36886921e-01 -1.20574648e+00 -1.05189829e+00 -9.70989996e-01\n",
      "  -1.49158867e+00 -1.31005635e+00 -1.34407542e+00 -9.48199109e-01]\n",
      " [-1.75090333e-01 -2.38052676e-01 -1.60374162e+00 -1.42052240e+00\n",
      "   2.93100948e-01  2.35054026e-01  5.82095332e-01  1.88776702e+00]\n",
      " [ 3.08982940e-02  5.36102367e-01 -6.69852905e-01 -6.28339421e-01\n",
      "  -3.24676226e-01 -1.22786963e+00 -1.11554669e+00 -9.48199109e-01]\n",
      " [ 8.54852801e-01 -4.45139150e-02  1.15547504e+00  1.34268728e+00\n",
      "  -8.73811492e-01 -3.89565064e-01 -1.14819365e+00 -1.19480486e+00]\n",
      " [-1.61701072e+00  1.50379617e+00 -1.60374162e+00 -1.44252748e+00\n",
      "  -3.24676226e-01  4.32302160e-01 -1.03490869e-01  3.12079577e+00]\n",
      " [ 8.54852801e-01 -1.20574648e+00  7.30980166e-01  7.10827046e-01\n",
      "   2.93100948e-01  9.25422494e-01 -5.54998353e-03  3.82238913e-02]\n",
      " [ 1.06084143e+00  1.31025741e+00 -2.87807522e-01 -3.73709177e-01\n",
      "  -1.18750501e-01  2.13685478e-02 -8.87017957e-01  1.61526766e-01]\n",
      " [ 2.36886921e-01 -1.01220772e+00 -7.54751879e-01 -7.28934085e-01\n",
      "  -7.36527676e-01 -9.64872121e-01 -6.91136185e-01 -7.01593359e-01]\n",
      " [ 8.54852801e-01 -4.45139150e-02  3.06485296e-01  3.61889304e-01\n",
      "  -7.36527676e-01 -7.01874609e-01 -4.29960489e-01 -1.31810773e+00]\n",
      " [-1.41102209e+00 -2.38052676e-01 -3.72706496e-01 -4.52298759e-01\n",
      "   1.80322293e+00 -3.56690375e-01  1.52885723e+00  1.61526766e-01]\n",
      " [-1.20503347e+00  5.36102367e-01  9.85677088e-01  9.52882957e-01\n",
      "   2.93100948e-01  1.45141752e+00  7.12683180e-01  2.84829641e-01]\n",
      " [-1.75090333e-01 -4.45139150e-02  2.00446478e+00  1.70419935e+00\n",
      "   1.80322293e+00  3.58827230e+00  3.19385229e+00  2.01106989e+00]\n",
      " [ 1.06084143e+00 -4.31591436e-01 -5.84953931e-01 -6.18908671e-01\n",
      "  -2.56034318e-01 -5.21063820e-01 -6.91136185e-01 -5.78290484e-01]\n",
      " [-1.41102209e+00 -4.45139150e-02 -9.66999314e-01 -9.45841330e-01\n",
      "   4.99026673e-01 -5.37501164e-01 -2.99372641e-01  6.54738267e-01]\n",
      " [ 3.08982940e-02  5.36102367e-01 -4.57605470e-01 -5.74898506e-01\n",
      "   3.61742857e-01  4.48739504e-01  2.70969784e-02  5.31435391e-01]\n",
      " [-1.41102209e+00 -6.25130197e-01  3.19305041e+00  3.69408756e+00\n",
      "   2.24459040e-01  2.30615943e+00 -3.32019603e-01  4.08132516e-01]\n",
      " [ 6.48864174e-01 -8.18668958e-01  1.36772247e+00  1.34897445e+00\n",
      "   1.32272957e+00  8.59673116e-01 -9.84958843e-01  9.01344017e-01]\n",
      " [ 1.67880731e+00  5.36102367e-01 -8.39650853e-01 -8.16954417e-01\n",
      "  -3.93318134e-01 -8.99122743e-01  4.84154446e-01 -5.78290484e-01]\n",
      " [-5.87067586e-01 -1.01220772e+00  1.02812657e+00  1.16979020e+00\n",
      "  -2.56034318e-01 -3.56690375e-01  6.47389256e-01 -5.78290484e-01]\n",
      " [ 4.42875547e-01  1.50379617e+00 -1.18009574e-01 -1.72519849e-01\n",
      "  -5.99243859e-01 -4.55314442e-01  4.84154446e-01 -1.07150198e+00]\n",
      " [ 4.42875547e-01 -1.39928524e+00  1.07057606e+00  1.17293378e+00\n",
      "  -8.73811492e-01 -9.36928635e-02  5.97439404e-02 -1.07150198e+00]\n",
      " [-1.20503347e+00 -1.39928524e+00 -7.12302392e-01 -7.44652002e-01\n",
      "  -1.01109531e+00 -5.37501164e-01 -5.54998353e-03 -8.50789838e-02]\n",
      " [-9.99044839e-01  9.23179889e-01 -3.31105999e-02 -1.59945516e-01\n",
      "   7.04952398e-01  1.19992615e-01  6.14742294e-01 -2.08381859e-01]\n",
      " [ 1.26683005e+00  1.69733493e+00 -7.55600868e-02 -1.25366100e-01\n",
      "  -8.73811492e-01 -6.68999920e-01 -7.89077071e-01 -7.01593359e-01]\n",
      " [-1.41102209e+00 -1.20574648e+00  1.36687348e-01  7.89668114e-02\n",
      "  -7.36527676e-01 -3.73127720e-01 -6.91136185e-01 -4.54987609e-01]\n",
      " [-5.87067586e-01 -8.18668958e-01 -5.00054957e-01 -4.74303842e-01\n",
      "  -1.97208202e+00 -1.24430698e+00 -1.76848593e+00 -1.44141061e+00]\n",
      " [-1.41102209e+00 -2.38052676e-01 -4.15155983e-01 -4.64873092e-01\n",
      "  -5.01085930e-02 -7.34749298e-01 -9.52311881e-01 -9.48199109e-01]\n",
      " [ 1.06084143e+00  1.50379617e+00  1.36687348e-01  9.80797976e-03\n",
      "   8.71752235e-02  4.65176849e-01 -2.34078717e-01 -2.08381859e-01]\n",
      " [ 1.26683005e+00 -4.31591436e-01  1.49507093e+00  1.76392744e+00\n",
      "  -8.05169584e-01  7.06805813e-02  5.49448370e-01 -1.07150198e+00]\n",
      " [ 1.06084143e+00 -8.18668958e-01 -7.97201366e-01 -7.91805751e-01\n",
      "   1.55817132e-01 -9.15560087e-01 -1.03490869e-01  1.61526766e-01]\n",
      " [ 4.42875547e-01  1.69733493e+00 -1.47639316e+00 -1.28220474e+00\n",
      "  -5.01085930e-02 -1.21143229e+00 -1.89907378e+00  5.31435391e-01]\n",
      " [ 8.54852801e-01  1.11671865e+00 -9.66999314e-01 -9.11261914e-01\n",
      "  -8.73811492e-01 -8.49810709e-01 -1.01760580e+00  1.61526766e-01]\n",
      " [-1.75090333e-01  1.69733493e+00 -1.18009574e-01 -1.88237765e-01\n",
      "  -3.24676226e-01 -2.08754275e-01 -1.68784793e-01 -8.50789838e-02]]\n"
     ]
    }
   ],
   "source": [
    "from sklearn import preprocessing\n",
    "scaled_data = preprocessing.scale(data[data.columns[2:]])\n",
    "print(scaled_data)"
   ]
  },
  {
   "cell_type": "code",
   "execution_count": 97,
   "metadata": {},
   "outputs": [
    {
     "data": {
      "text/html": [
       "<div>\n",
       "<style scoped>\n",
       "    .dataframe tbody tr th:only-of-type {\n",
       "        vertical-align: middle;\n",
       "    }\n",
       "\n",
       "    .dataframe tbody tr th {\n",
       "        vertical-align: top;\n",
       "    }\n",
       "\n",
       "    .dataframe thead th {\n",
       "        text-align: right;\n",
       "    }\n",
       "</style>\n",
       "<table border=\"1\" class=\"dataframe\">\n",
       "  <thead>\n",
       "    <tr style=\"text-align: right;\">\n",
       "      <th></th>\n",
       "      <th>radius</th>\n",
       "      <th>texture</th>\n",
       "      <th>perimeter</th>\n",
       "      <th>area</th>\n",
       "      <th>smoothness</th>\n",
       "      <th>compactness</th>\n",
       "      <th>symmetry</th>\n",
       "      <th>fractal_dimension</th>\n",
       "    </tr>\n",
       "  </thead>\n",
       "  <tbody>\n",
       "    <tr>\n",
       "      <th>0</th>\n",
       "      <td>1.266830</td>\n",
       "      <td>-1.205746</td>\n",
       "      <td>2.301611</td>\n",
       "      <td>0.789417</td>\n",
       "      <td>2.764210</td>\n",
       "      <td>2.486970</td>\n",
       "      <td>1.594151</td>\n",
       "      <td>1.764464</td>\n",
       "    </tr>\n",
       "    <tr>\n",
       "      <th>1</th>\n",
       "      <td>-1.617011</td>\n",
       "      <td>-1.012208</td>\n",
       "      <td>1.537520</td>\n",
       "      <td>1.958830</td>\n",
       "      <td>2.764210</td>\n",
       "      <td>-0.784061</td>\n",
       "      <td>-0.397314</td>\n",
       "      <td>-0.948199</td>\n",
       "    </tr>\n",
       "    <tr>\n",
       "      <th>2</th>\n",
       "      <td>0.854853</td>\n",
       "      <td>1.697335</td>\n",
       "      <td>1.410172</td>\n",
       "      <td>1.572169</td>\n",
       "      <td>1.528655</td>\n",
       "      <td>0.547364</td>\n",
       "      <td>0.451507</td>\n",
       "      <td>-0.578290</td>\n",
       "    </tr>\n",
       "    <tr>\n",
       "      <th>3</th>\n",
       "      <td>-0.587068</td>\n",
       "      <td>-0.431591</td>\n",
       "      <td>-0.797201</td>\n",
       "      <td>-0.996139</td>\n",
       "      <td>-2.246650</td>\n",
       "      <td>2.585594</td>\n",
       "      <td>2.181796</td>\n",
       "      <td>3.983916</td>\n",
       "    </tr>\n",
       "    <tr>\n",
       "      <th>4</th>\n",
       "      <td>-1.617011</td>\n",
       "      <td>0.149025</td>\n",
       "      <td>1.622419</td>\n",
       "      <td>1.867666</td>\n",
       "      <td>2.626926</td>\n",
       "      <td>0.103555</td>\n",
       "      <td>-0.397314</td>\n",
       "      <td>-0.701593</td>\n",
       "    </tr>\n",
       "  </tbody>\n",
       "</table>\n",
       "</div>"
      ],
      "text/plain": [
       "     radius   texture  perimeter      area  smoothness  compactness  symmetry  \\\n",
       "0  1.266830 -1.205746   2.301611  0.789417    2.764210     2.486970  1.594151   \n",
       "1 -1.617011 -1.012208   1.537520  1.958830    2.764210    -0.784061 -0.397314   \n",
       "2  0.854853  1.697335   1.410172  1.572169    1.528655     0.547364  0.451507   \n",
       "3 -0.587068 -0.431591  -0.797201 -0.996139   -2.246650     2.585594  2.181796   \n",
       "4 -1.617011  0.149025   1.622419  1.867666    2.626926     0.103555 -0.397314   \n",
       "\n",
       "   fractal_dimension  \n",
       "0           1.764464  \n",
       "1          -0.948199  \n",
       "2          -0.578290  \n",
       "3           3.983916  \n",
       "4          -0.701593  "
      ]
     },
     "execution_count": 97,
     "metadata": {},
     "output_type": "execute_result"
    }
   ],
   "source": [
    "scaled_features = pd.DataFrame(scaled_data, columns=data.columns[2:])\n",
    "scaled_features.head()"
   ]
  },
  {
   "cell_type": "code",
   "execution_count": 65,
   "metadata": {},
   "outputs": [
    {
     "data": {
      "text/html": [
       "<div>\n",
       "<style scoped>\n",
       "    .dataframe tbody tr th:only-of-type {\n",
       "        vertical-align: middle;\n",
       "    }\n",
       "\n",
       "    .dataframe tbody tr th {\n",
       "        vertical-align: top;\n",
       "    }\n",
       "\n",
       "    .dataframe thead th {\n",
       "        text-align: right;\n",
       "    }\n",
       "</style>\n",
       "<table border=\"1\" class=\"dataframe\">\n",
       "  <thead>\n",
       "    <tr style=\"text-align: right;\">\n",
       "      <th></th>\n",
       "      <th>radius</th>\n",
       "      <th>texture</th>\n",
       "      <th>perimeter</th>\n",
       "      <th>area</th>\n",
       "      <th>smoothness</th>\n",
       "      <th>compactness</th>\n",
       "      <th>symmetry</th>\n",
       "      <th>fractal_dimension</th>\n",
       "    </tr>\n",
       "  </thead>\n",
       "  <tbody>\n",
       "    <tr>\n",
       "      <th>count</th>\n",
       "      <td>1.000000e+02</td>\n",
       "      <td>1.000000e+02</td>\n",
       "      <td>1.000000e+02</td>\n",
       "      <td>1.000000e+02</td>\n",
       "      <td>1.000000e+02</td>\n",
       "      <td>1.000000e+02</td>\n",
       "      <td>1.000000e+02</td>\n",
       "      <td>1.000000e+02</td>\n",
       "    </tr>\n",
       "    <tr>\n",
       "      <th>mean</th>\n",
       "      <td>-2.969847e-16</td>\n",
       "      <td>-8.437695e-17</td>\n",
       "      <td>-6.911138e-17</td>\n",
       "      <td>2.775558e-17</td>\n",
       "      <td>-1.019740e-15</td>\n",
       "      <td>-1.373901e-16</td>\n",
       "      <td>-1.178502e-15</td>\n",
       "      <td>4.868328e-16</td>\n",
       "    </tr>\n",
       "    <tr>\n",
       "      <th>std</th>\n",
       "      <td>1.005038e+00</td>\n",
       "      <td>1.005038e+00</td>\n",
       "      <td>1.005038e+00</td>\n",
       "      <td>1.005038e+00</td>\n",
       "      <td>1.005038e+00</td>\n",
       "      <td>1.005038e+00</td>\n",
       "      <td>1.005038e+00</td>\n",
       "      <td>1.005038e+00</td>\n",
       "    </tr>\n",
       "    <tr>\n",
       "      <th>min</th>\n",
       "      <td>-1.617011e+00</td>\n",
       "      <td>-1.399285e+00</td>\n",
       "      <td>-1.900888e+00</td>\n",
       "      <td>-1.574558e+00</td>\n",
       "      <td>-2.246650e+00</td>\n",
       "      <td>-1.457992e+00</td>\n",
       "      <td>-1.899074e+00</td>\n",
       "      <td>-1.441411e+00</td>\n",
       "    </tr>\n",
       "    <tr>\n",
       "      <th>25%</th>\n",
       "      <td>-9.990448e-01</td>\n",
       "      <td>-8.186690e-01</td>\n",
       "      <td>-6.061787e-01</td>\n",
       "      <td>-7.108585e-01</td>\n",
       "      <td>-6.335648e-01</td>\n",
       "      <td>-7.594053e-01</td>\n",
       "      <td>-6.911362e-01</td>\n",
       "      <td>-7.015934e-01</td>\n",
       "    </tr>\n",
       "    <tr>\n",
       "      <th>50%</th>\n",
       "      <td>3.089829e-02</td>\n",
       "      <td>-1.412833e-01</td>\n",
       "      <td>-1.180096e-01</td>\n",
       "      <td>-1.850942e-01</td>\n",
       "      <td>-5.010859e-02</td>\n",
       "      <td>-1.347862e-01</td>\n",
       "      <td>-1.034909e-01</td>\n",
       "      <td>-2.083819e-01</td>\n",
       "    </tr>\n",
       "    <tr>\n",
       "      <th>75%</th>\n",
       "      <td>8.548528e-01</td>\n",
       "      <td>7.780258e-01</td>\n",
       "      <td>7.415925e-01</td>\n",
       "      <td>6.731040e-01</td>\n",
       "      <td>6.363105e-01</td>\n",
       "      <td>4.980515e-01</td>\n",
       "      <td>5.168014e-01</td>\n",
       "      <td>5.314354e-01</td>\n",
       "    </tr>\n",
       "    <tr>\n",
       "      <th>max</th>\n",
       "      <td>1.678807e+00</td>\n",
       "      <td>1.697335e+00</td>\n",
       "      <td>3.193050e+00</td>\n",
       "      <td>3.694088e+00</td>\n",
       "      <td>2.764210e+00</td>\n",
       "      <td>3.588272e+00</td>\n",
       "      <td>3.618263e+00</td>\n",
       "      <td>3.983916e+00</td>\n",
       "    </tr>\n",
       "  </tbody>\n",
       "</table>\n",
       "</div>"
      ],
      "text/plain": [
       "             radius       texture     perimeter          area    smoothness  \\\n",
       "count  1.000000e+02  1.000000e+02  1.000000e+02  1.000000e+02  1.000000e+02   \n",
       "mean  -2.969847e-16 -8.437695e-17 -6.911138e-17  2.775558e-17 -1.019740e-15   \n",
       "std    1.005038e+00  1.005038e+00  1.005038e+00  1.005038e+00  1.005038e+00   \n",
       "min   -1.617011e+00 -1.399285e+00 -1.900888e+00 -1.574558e+00 -2.246650e+00   \n",
       "25%   -9.990448e-01 -8.186690e-01 -6.061787e-01 -7.108585e-01 -6.335648e-01   \n",
       "50%    3.089829e-02 -1.412833e-01 -1.180096e-01 -1.850942e-01 -5.010859e-02   \n",
       "75%    8.548528e-01  7.780258e-01  7.415925e-01  6.731040e-01  6.363105e-01   \n",
       "max    1.678807e+00  1.697335e+00  3.193050e+00  3.694088e+00  2.764210e+00   \n",
       "\n",
       "        compactness      symmetry  fractal_dimension  \n",
       "count  1.000000e+02  1.000000e+02       1.000000e+02  \n",
       "mean  -1.373901e-16 -1.178502e-15       4.868328e-16  \n",
       "std    1.005038e+00  1.005038e+00       1.005038e+00  \n",
       "min   -1.457992e+00 -1.899074e+00      -1.441411e+00  \n",
       "25%   -7.594053e-01 -6.911362e-01      -7.015934e-01  \n",
       "50%   -1.347862e-01 -1.034909e-01      -2.083819e-01  \n",
       "75%    4.980515e-01  5.168014e-01       5.314354e-01  \n",
       "max    3.588272e+00  3.618263e+00       3.983916e+00  "
      ]
     },
     "execution_count": 65,
     "metadata": {},
     "output_type": "execute_result"
    }
   ],
   "source": [
    "scaled_features.describe()"
   ]
  },
  {
   "cell_type": "code",
   "execution_count": 68,
   "metadata": {},
   "outputs": [
    {
     "data": {
      "image/png": "[encoded data removed]",
      "text/plain": [
       "<Figure size 1296x576 with 1 Axes>"
      ]
     },
     "metadata": {
      "needs_background": "light"
     },
     "output_type": "display_data"
    }
   ],
   "source": [
    "plt.figure(figsize=(18,8))\n",
    "ax = sns.boxplot(data=scaled_features, orient=\"h\")\n",
    "plt.show()"
   ]
  },
  {
   "cell_type": "markdown",
   "metadata": {},
   "source": [
    "#### 2.5.2 MinMaxScaler\n",
    "\n",
    "Features entre 0 e 1."
   ]
  },
  {
   "cell_type": "code",
   "execution_count": 76,
   "metadata": {},
   "outputs": [
    {
     "name": "stdout",
     "output_type": "stream",
     "text": [
      "[[0.875      0.0625     0.825      0.44868735 1.         0.78175896\n",
      "  0.63313609 0.59090909]\n",
      " [0.         0.125      0.675      0.67064439 1.         0.13355049\n",
      "  0.27218935 0.09090909]\n",
      " [0.75       1.         0.65       0.59725537 0.75342466 0.39739414\n",
      "  0.4260355  0.15909091]\n",
      " [0.3125     0.3125     0.21666667 0.1097852  0.         0.80130293\n",
      "  0.73964497 1.        ]\n",
      " [0.         0.5        0.69166667 0.65334129 0.97260274 0.30944625\n",
      "  0.27218935 0.13636364]\n",
      " [1.         0.875      0.25833333 0.16408115 0.79452055 0.42996743\n",
      "  0.43786982 0.52272727]\n",
      " [0.4375     0.9375     0.56666667 0.5        0.34246575 0.23127036\n",
      "  0.26035503 0.09090909]\n",
      " [0.375      0.4375     0.31666667 0.22434368 0.67123288 0.41368078\n",
      "  0.50295858 0.5       ]\n",
      " [0.625      0.8125     0.3        0.18973747 0.78082192 0.50488599\n",
      "  0.59171598 0.47727273]\n",
      " [1.         0.         0.26666667 0.16348449 0.67123288 0.65798046\n",
      "  0.40236686 0.65909091]\n",
      " [0.9375     0.625      0.425      0.35560859 0.16438356 0.09446254\n",
      "  0.10650888 0.09090909]\n",
      " [0.5        0.25       0.43333333 0.34546539 0.36986301 0.29641694\n",
      "  0.28994083 0.18181818]\n",
      " [0.3125     0.25       0.66666667 0.54952267 0.36986301 0.67752443\n",
      "  0.62130178 0.56818182]\n",
      " [0.1875     0.6875     0.43333333 0.34665871 0.19178082 0.2019544\n",
      "  0.29585799 0.        ]\n",
      " [0.1875     0.125      0.35       0.22434368 0.5890411  0.62214984\n",
      "  0.4260355  0.54545455]\n",
      " [0.8125     0.5        0.375      0.27267303 0.60273973 0.39739414\n",
      "  0.56213018 0.40909091]\n",
      " [0.0625     0.3125     0.35833333 0.28818616 0.39726027 0.11074919\n",
      "  0.14201183 0.13636364]\n",
      " [0.375      0.1875     0.46666667 0.35620525 0.64383562 0.53420195\n",
      "  0.47928994 0.47727273]\n",
      " [0.6875     0.1875     0.65       0.63126492 0.38356164 0.21172638\n",
      "  0.13609467 0.02272727]\n",
      " [0.5        0.         0.29166667 0.21718377 0.38356164 0.14006515\n",
      "  0.31952663 0.11363636]\n",
      " [0.4375     0.1875     0.28333333 0.18973747 0.52054795 0.28990228\n",
      "  0.36686391 0.34090909]\n",
      " [0.5        0.8125     0.06666667 0.04295943 0.43835616 0.08794788\n",
      "  0.27810651 0.36363636]\n",
      " [0.6875     1.         0.425      0.29952267 0.50684932 0.5732899\n",
      "  0.69230769 0.38636364]\n",
      " [0.625      0.0625     0.70833333 0.71718377 0.32876712 0.20846906\n",
      "  0.24852071 0.        ]\n",
      " [0.         0.125      0.48333333 0.41945107 0.57534247 0.35179153\n",
      "  0.38461538 0.22727273]\n",
      " [0.625      1.         0.53333333 0.42422434 0.67123288 0.61889251\n",
      "  1.         0.47727273]\n",
      " [0.0625     0.8125     0.375      0.26431981 0.47945205 0.48534202\n",
      "  0.53254438 0.36363636]\n",
      " [0.4375     0.8125     0.58333333 0.53221957 0.32876712 0.2247557\n",
      "  0.20710059 0.09090909]\n",
      " [0.375      0.25       0.41666667 0.31622912 0.52054795 0.42996743\n",
      "  0.34319527 0.27272727]\n",
      " [0.125      0.3125     0.525      0.44928401 0.38356164 0.25407166\n",
      "  0.23076923 0.18181818]\n",
      " [0.125      0.6875     0.60833333 0.52863962 0.49315068 0.49185668\n",
      "  0.49112426 0.20454545]\n",
      " [0.875      0.9375     0.21666667 0.14260143 0.56164384 0.3713355\n",
      "  0.56213018 0.56818182]\n",
      " [0.6875     0.4375     0.50833333 0.41587112 0.68493151 0.36482085\n",
      "  0.53254438 0.25      ]\n",
      " [0.125      0.625      0.63333333 0.57279236 0.32876712 0.43648208\n",
      "  0.29585799 0.22727273]\n",
      " [0.4375     0.75       0.45833333 0.36097852 0.46575342 0.38436482\n",
      "  0.38461538 0.27272727]\n",
      " [0.0625     0.125      0.48333333 0.39856802 0.35616438 0.31270358\n",
      "  0.32544379 0.09090909]\n",
      " [0.5625     0.0625     0.35       0.2571599  0.38356164 0.23452769\n",
      "  0.31952663 0.18181818]\n",
      " [0.75       0.         0.25833333 0.19212411 0.2739726  0.\n",
      "  0.07100592 0.13636364]\n",
      " [0.125      0.25       0.36666667 0.29653938 0.32876712 0.04234528\n",
      "  0.13017751 0.04545455]\n",
      " [0.0625     0.1875     0.3        0.21300716 0.43835616 0.28664495\n",
      "  0.21893491 0.25      ]\n",
      " [0.9375     0.3125     0.28333333 0.21539379 0.16438356 0.07166124\n",
      "  0.25443787 0.06818182]\n",
      " [0.625      1.         0.16666667 0.10083532 0.7260274  0.27361564\n",
      "  0.32544379 0.36363636]\n",
      " [0.125      0.         0.63333333 0.53818616 0.28767123 0.58957655\n",
      "  0.56804734 0.22727273]\n",
      " [0.375      0.625      0.29166667 0.20465394 0.46575342 0.34527687\n",
      "  0.36686391 0.34090909]\n",
      " [0.0625     0.25       0.275      0.19689737 0.36986301 0.21824104\n",
      "  0.23668639 0.20454545]\n",
      " [0.5625     0.         0.6        0.52147971 0.54794521 0.4267101\n",
      "  0.33136095 0.15909091]\n",
      " [0.8125     0.0625     0.         0.         0.21917808 0.06840391\n",
      "  0.24852071 0.27272727]\n",
      " [0.6875     0.1875     0.28333333 0.19868735 0.63013699 0.27687296\n",
      "  0.46153846 0.34090909]\n",
      " [0.6875     0.625      0.21666667 0.1473747  0.45205479 0.17263844\n",
      "  0.19526627 0.15909091]\n",
      " [1.         0.         0.29166667 0.21420048 0.24657534 0.12703583\n",
      "  0.27218935 0.09090909]\n",
      " [0.625      0.875      0.19166667 0.13484487 0.21917808 0.03908795\n",
      "  0.0887574  0.13636364]\n",
      " [0.625      0.6875     0.29166667 0.22076372 0.09589041 0.07491857\n",
      "  0.         0.15909091]\n",
      " [1.         0.25       0.2        0.14081146 0.17808219 0.03257329\n",
      "  0.30769231 0.18181818]\n",
      " [0.3125     0.9375     0.56666667 0.49582339 0.61643836 0.36156352\n",
      "  0.43786982 0.22727273]\n",
      " [0.5625     0.875      0.375      0.3048926  0.28767123 0.10749186\n",
      "  0.15976331 0.09090909]\n",
      " [0.5625     0.125      0.175      0.12350835 0.34246575 0.05537459\n",
      "  0.33727811 0.13636364]\n",
      " [0.0625     0.5        0.61666667 0.56682578 0.47945205 0.28990228\n",
      "  0.33727811 0.15909091]\n",
      " [0.5        0.5625     0.36666667 0.27147971 0.60273973 0.32247557\n",
      "  0.40236686 0.34090909]\n",
      " [0.8125     0.25       0.25833333 0.19391408 0.15068493 0.\n",
      "  0.27810651 0.04545455]\n",
      " [0.875      0.9375     0.01666667 0.01372315 0.38356164 0.04885993\n",
      "  0.19526627 0.43181818]\n",
      " [0.375      0.4375     0.10833333 0.06563246 0.5890411  0.14006515\n",
      "  0.82248521 0.38636364]\n",
      " [1.         0.25       0.025      0.01193317 0.73972603 0.16938111\n",
      "  0.28402367 0.34090909]\n",
      " [0.1875     0.6875     0.36666667 0.26491647 0.47945205 0.53094463\n",
      "  0.35502959 0.45454545]\n",
      " [0.9375     0.375      0.05833333 0.03520286 0.09589041 0.16286645\n",
      "  0.58579882 0.38636364]\n",
      " [0.4375     0.5        0.25833333 0.17720764 0.57534247 0.28664495\n",
      "  0.33136095 0.29545455]\n",
      " [0.125      0.625      0.375      0.27804296 0.64383562 0.35830619\n",
      "  0.35502959 0.31818182]\n",
      " [0.1875     0.125      0.06666667 0.03997613 0.46575342 0.13029316\n",
      "  0.21893491 0.36363636]\n",
      " [0.5625     0.0625     0.16666667 0.11455847 0.15068493 0.02931596\n",
      "  0.10059172 0.09090909]\n",
      " [0.4375     0.375      0.05833333 0.02923628 0.50684932 0.33550489\n",
      "  0.44970414 0.61363636]\n",
      " [0.5        0.625      0.24166667 0.17959427 0.38356164 0.04560261\n",
      "  0.14201183 0.09090909]\n",
      " [0.75       0.4375     0.6        0.55369928 0.2739726  0.21172638\n",
      "  0.13609467 0.04545455]\n",
      " [0.         0.9375     0.05833333 0.02505967 0.38356164 0.37459283\n",
      "  0.32544379 0.84090909]\n",
      " [0.75       0.0625     0.51666667 0.43377088 0.50684932 0.4723127\n",
      "  0.34319527 0.27272727]\n",
      " [0.8125     0.875      0.31666667 0.22792363 0.42465753 0.29315961\n",
      "  0.18343195 0.29545455]\n",
      " [0.5625     0.125      0.225      0.16050119 0.30136986 0.09771987\n",
      "  0.21893491 0.13636364]\n",
      " [0.75       0.4375     0.43333333 0.36754177 0.30136986 0.14983713\n",
      "  0.26627219 0.02272727]\n",
      " [0.0625     0.375      0.3        0.21300716 0.80821918 0.21824104\n",
      "  0.62130178 0.29545455]\n",
      " [0.125      0.625      0.56666667 0.4797136  0.50684932 0.57654723\n",
      "  0.47337278 0.31818182]\n",
      " [0.4375     0.4375     0.76666667 0.62231504 0.80821918 1.\n",
      "  0.92307692 0.63636364]\n",
      " [0.8125     0.3125     0.25833333 0.18138425 0.39726027 0.18566775\n",
      "  0.21893491 0.15909091]\n",
      " [0.0625     0.4375     0.18333333 0.11933174 0.54794521 0.18241042\n",
      "  0.28994083 0.38636364]\n",
      " [0.5        0.625      0.28333333 0.18973747 0.52054795 0.37785016\n",
      "  0.34911243 0.36363636]\n",
      " [0.0625     0.25       1.         1.         0.49315068 0.74592834\n",
      "  0.28402367 0.34090909]\n",
      " [0.6875     0.1875     0.64166667 0.5548926  0.71232877 0.45928339\n",
      "  0.16568047 0.43181818]\n",
      " [1.         0.625      0.20833333 0.14379475 0.36986301 0.11074919\n",
      "  0.43195266 0.15909091]\n",
      " [0.3125     0.125      0.575      0.52088305 0.39726027 0.21824104\n",
      "  0.46153846 0.15909091]\n",
      " [0.625      0.9375     0.35       0.26610979 0.32876712 0.19869707\n",
      "  0.43195266 0.06818182]\n",
      " [0.625      0.         0.58333333 0.52147971 0.2739726  0.27035831\n",
      "  0.35502959 0.06818182]\n",
      " [0.125      0.         0.23333333 0.1575179  0.24657534 0.18241042\n",
      "  0.34319527 0.25      ]\n",
      " [0.1875     0.75       0.36666667 0.26849642 0.5890411  0.31270358\n",
      "  0.4556213  0.22727273]\n",
      " [0.875      1.         0.35833333 0.27505967 0.2739726  0.15635179\n",
      "  0.20118343 0.13636364]\n",
      " [0.0625     0.0625     0.4        0.31384248 0.30136986 0.21498371\n",
      "  0.21893491 0.18181818]\n",
      " [0.3125     0.1875     0.275      0.20883055 0.05479452 0.04234528\n",
      "  0.02366864 0.        ]\n",
      " [0.0625     0.375      0.29166667 0.21062053 0.43835616 0.14332248\n",
      "  0.17159763 0.09090909]\n",
      " [0.8125     0.9375     0.4        0.30071599 0.46575342 0.38110749\n",
      "  0.30177515 0.22727273]\n",
      " [0.875      0.3125     0.66666667 0.63365155 0.28767123 0.3029316\n",
      "  0.44378698 0.06818182]\n",
      " [0.8125     0.1875     0.21666667 0.14856802 0.47945205 0.10749186\n",
      "  0.32544379 0.29545455]\n",
      " [0.625      1.         0.08333333 0.05548926 0.43835616 0.04885993\n",
      "  0.         0.36363636]\n",
      " [0.75       0.8125     0.18333333 0.12589499 0.2739726  0.12052117\n",
      "  0.15976331 0.29545455]\n",
      " [0.4375     1.         0.35       0.26312649 0.38356164 0.247557\n",
      "  0.31360947 0.25      ]]\n"
     ]
    }
   ],
   "source": [
    "minmax_scaler = preprocessing.MinMaxScaler(feature_range=(0,1))\n",
    "minmax_data = minmax_scaler.fit_transform(data[data.columns[2:]])\n",
    "print(minmax_data)"
   ]
  },
  {
   "cell_type": "code",
   "execution_count": 77,
   "metadata": {},
   "outputs": [
    {
     "data": {
      "text/html": [
       "<div>\n",
       "<style scoped>\n",
       "    .dataframe tbody tr th:only-of-type {\n",
       "        vertical-align: middle;\n",
       "    }\n",
       "\n",
       "    .dataframe tbody tr th {\n",
       "        vertical-align: top;\n",
       "    }\n",
       "\n",
       "    .dataframe thead th {\n",
       "        text-align: right;\n",
       "    }\n",
       "</style>\n",
       "<table border=\"1\" class=\"dataframe\">\n",
       "  <thead>\n",
       "    <tr style=\"text-align: right;\">\n",
       "      <th></th>\n",
       "      <th>radius</th>\n",
       "      <th>texture</th>\n",
       "      <th>perimeter</th>\n",
       "      <th>area</th>\n",
       "      <th>smoothness</th>\n",
       "      <th>compactness</th>\n",
       "      <th>symmetry</th>\n",
       "      <th>fractal_dimension</th>\n",
       "    </tr>\n",
       "  </thead>\n",
       "  <tbody>\n",
       "    <tr>\n",
       "      <th>0</th>\n",
       "      <td>0.8750</td>\n",
       "      <td>0.0625</td>\n",
       "      <td>0.825000</td>\n",
       "      <td>0.448687</td>\n",
       "      <td>1.000000</td>\n",
       "      <td>0.781759</td>\n",
       "      <td>0.633136</td>\n",
       "      <td>0.590909</td>\n",
       "    </tr>\n",
       "    <tr>\n",
       "      <th>1</th>\n",
       "      <td>0.0000</td>\n",
       "      <td>0.1250</td>\n",
       "      <td>0.675000</td>\n",
       "      <td>0.670644</td>\n",
       "      <td>1.000000</td>\n",
       "      <td>0.133550</td>\n",
       "      <td>0.272189</td>\n",
       "      <td>0.090909</td>\n",
       "    </tr>\n",
       "    <tr>\n",
       "      <th>2</th>\n",
       "      <td>0.7500</td>\n",
       "      <td>1.0000</td>\n",
       "      <td>0.650000</td>\n",
       "      <td>0.597255</td>\n",
       "      <td>0.753425</td>\n",
       "      <td>0.397394</td>\n",
       "      <td>0.426036</td>\n",
       "      <td>0.159091</td>\n",
       "    </tr>\n",
       "    <tr>\n",
       "      <th>3</th>\n",
       "      <td>0.3125</td>\n",
       "      <td>0.3125</td>\n",
       "      <td>0.216667</td>\n",
       "      <td>0.109785</td>\n",
       "      <td>0.000000</td>\n",
       "      <td>0.801303</td>\n",
       "      <td>0.739645</td>\n",
       "      <td>1.000000</td>\n",
       "    </tr>\n",
       "    <tr>\n",
       "      <th>4</th>\n",
       "      <td>0.0000</td>\n",
       "      <td>0.5000</td>\n",
       "      <td>0.691667</td>\n",
       "      <td>0.653341</td>\n",
       "      <td>0.972603</td>\n",
       "      <td>0.309446</td>\n",
       "      <td>0.272189</td>\n",
       "      <td>0.136364</td>\n",
       "    </tr>\n",
       "  </tbody>\n",
       "</table>\n",
       "</div>"
      ],
      "text/plain": [
       "   radius  texture  perimeter      area  smoothness  compactness  symmetry  \\\n",
       "0  0.8750   0.0625   0.825000  0.448687    1.000000     0.781759  0.633136   \n",
       "1  0.0000   0.1250   0.675000  0.670644    1.000000     0.133550  0.272189   \n",
       "2  0.7500   1.0000   0.650000  0.597255    0.753425     0.397394  0.426036   \n",
       "3  0.3125   0.3125   0.216667  0.109785    0.000000     0.801303  0.739645   \n",
       "4  0.0000   0.5000   0.691667  0.653341    0.972603     0.309446  0.272189   \n",
       "\n",
       "   fractal_dimension  \n",
       "0           0.590909  \n",
       "1           0.090909  \n",
       "2           0.159091  \n",
       "3           1.000000  \n",
       "4           0.136364  "
      ]
     },
     "execution_count": 77,
     "metadata": {},
     "output_type": "execute_result"
    }
   ],
   "source": [
    "minmax_features = pd.DataFrame(minmax_data, columns=data.columns[2:])\n",
    "minmax_features.head()"
   ]
  },
  {
   "cell_type": "code",
   "execution_count": 78,
   "metadata": {},
   "outputs": [
    {
     "data": {
      "text/html": [
       "<div>\n",
       "<style scoped>\n",
       "    .dataframe tbody tr th:only-of-type {\n",
       "        vertical-align: middle;\n",
       "    }\n",
       "\n",
       "    .dataframe tbody tr th {\n",
       "        vertical-align: top;\n",
       "    }\n",
       "\n",
       "    .dataframe thead th {\n",
       "        text-align: right;\n",
       "    }\n",
       "</style>\n",
       "<table border=\"1\" class=\"dataframe\">\n",
       "  <thead>\n",
       "    <tr style=\"text-align: right;\">\n",
       "      <th></th>\n",
       "      <th>radius</th>\n",
       "      <th>texture</th>\n",
       "      <th>perimeter</th>\n",
       "      <th>area</th>\n",
       "      <th>smoothness</th>\n",
       "      <th>compactness</th>\n",
       "      <th>symmetry</th>\n",
       "      <th>fractal_dimension</th>\n",
       "    </tr>\n",
       "  </thead>\n",
       "  <tbody>\n",
       "    <tr>\n",
       "      <th>count</th>\n",
       "      <td>100.000000</td>\n",
       "      <td>100.000000</td>\n",
       "      <td>100.000000</td>\n",
       "      <td>100.000000</td>\n",
       "      <td>100.000000</td>\n",
       "      <td>100.000000</td>\n",
       "      <td>100.000000</td>\n",
       "      <td>100.000000</td>\n",
       "    </tr>\n",
       "    <tr>\n",
       "      <th>mean</th>\n",
       "      <td>0.490625</td>\n",
       "      <td>0.451875</td>\n",
       "      <td>0.373167</td>\n",
       "      <td>0.298854</td>\n",
       "      <td>0.448356</td>\n",
       "      <td>0.288925</td>\n",
       "      <td>0.344201</td>\n",
       "      <td>0.265682</td>\n",
       "    </tr>\n",
       "    <tr>\n",
       "      <th>std</th>\n",
       "      <td>0.304943</td>\n",
       "      <td>0.324560</td>\n",
       "      <td>0.197301</td>\n",
       "      <td>0.190758</td>\n",
       "      <td>0.200572</td>\n",
       "      <td>0.199165</td>\n",
       "      <td>0.182160</td>\n",
       "      <td>0.185249</td>\n",
       "    </tr>\n",
       "    <tr>\n",
       "      <th>min</th>\n",
       "      <td>0.000000</td>\n",
       "      <td>0.000000</td>\n",
       "      <td>0.000000</td>\n",
       "      <td>0.000000</td>\n",
       "      <td>0.000000</td>\n",
       "      <td>0.000000</td>\n",
       "      <td>0.000000</td>\n",
       "      <td>0.000000</td>\n",
       "    </tr>\n",
       "    <tr>\n",
       "      <th>25%</th>\n",
       "      <td>0.187500</td>\n",
       "      <td>0.187500</td>\n",
       "      <td>0.254167</td>\n",
       "      <td>0.163932</td>\n",
       "      <td>0.321918</td>\n",
       "      <td>0.138436</td>\n",
       "      <td>0.218935</td>\n",
       "      <td>0.136364</td>\n",
       "    </tr>\n",
       "    <tr>\n",
       "      <th>50%</th>\n",
       "      <td>0.500000</td>\n",
       "      <td>0.406250</td>\n",
       "      <td>0.350000</td>\n",
       "      <td>0.263723</td>\n",
       "      <td>0.438356</td>\n",
       "      <td>0.262215</td>\n",
       "      <td>0.325444</td>\n",
       "      <td>0.227273</td>\n",
       "    </tr>\n",
       "    <tr>\n",
       "      <th>75%</th>\n",
       "      <td>0.750000</td>\n",
       "      <td>0.703125</td>\n",
       "      <td>0.518750</td>\n",
       "      <td>0.426611</td>\n",
       "      <td>0.575342</td>\n",
       "      <td>0.387622</td>\n",
       "      <td>0.437870</td>\n",
       "      <td>0.363636</td>\n",
       "    </tr>\n",
       "    <tr>\n",
       "      <th>max</th>\n",
       "      <td>1.000000</td>\n",
       "      <td>1.000000</td>\n",
       "      <td>1.000000</td>\n",
       "      <td>1.000000</td>\n",
       "      <td>1.000000</td>\n",
       "      <td>1.000000</td>\n",
       "      <td>1.000000</td>\n",
       "      <td>1.000000</td>\n",
       "    </tr>\n",
       "  </tbody>\n",
       "</table>\n",
       "</div>"
      ],
      "text/plain": [
       "           radius     texture   perimeter        area  smoothness  \\\n",
       "count  100.000000  100.000000  100.000000  100.000000  100.000000   \n",
       "mean     0.490625    0.451875    0.373167    0.298854    0.448356   \n",
       "std      0.304943    0.324560    0.197301    0.190758    0.200572   \n",
       "min      0.000000    0.000000    0.000000    0.000000    0.000000   \n",
       "25%      0.187500    0.187500    0.254167    0.163932    0.321918   \n",
       "50%      0.500000    0.406250    0.350000    0.263723    0.438356   \n",
       "75%      0.750000    0.703125    0.518750    0.426611    0.575342   \n",
       "max      1.000000    1.000000    1.000000    1.000000    1.000000   \n",
       "\n",
       "       compactness    symmetry  fractal_dimension  \n",
       "count   100.000000  100.000000         100.000000  \n",
       "mean      0.288925    0.344201           0.265682  \n",
       "std       0.199165    0.182160           0.185249  \n",
       "min       0.000000    0.000000           0.000000  \n",
       "25%       0.138436    0.218935           0.136364  \n",
       "50%       0.262215    0.325444           0.227273  \n",
       "75%       0.387622    0.437870           0.363636  \n",
       "max       1.000000    1.000000           1.000000  "
      ]
     },
     "execution_count": 78,
     "metadata": {},
     "output_type": "execute_result"
    }
   ],
   "source": [
    "minmax_features.describe()"
   ]
  },
  {
   "cell_type": "code",
   "execution_count": 79,
   "metadata": {},
   "outputs": [
    {
     "data": {
      "image/png": "[encoded data removed]",
      "text/plain": [
       "<Figure size 1296x576 with 1 Axes>"
      ]
     },
     "metadata": {
      "needs_background": "light"
     },
     "output_type": "display_data"
    }
   ],
   "source": [
    "plt.figure(figsize=(18,8))\n",
    "ax = sns.boxplot(data=minmax_features, orient=\"h\")\n",
    "plt.show()"
   ]
  },
  {
   "cell_type": "code",
   "execution_count": 126,
   "metadata": {},
   "outputs": [
    {
     "data": {
      "text/html": [
       "<div>\n",
       "<style scoped>\n",
       "    .dataframe tbody tr th:only-of-type {\n",
       "        vertical-align: middle;\n",
       "    }\n",
       "\n",
       "    .dataframe tbody tr th {\n",
       "        vertical-align: top;\n",
       "    }\n",
       "\n",
       "    .dataframe thead th {\n",
       "        text-align: right;\n",
       "    }\n",
       "</style>\n",
       "<table border=\"1\" class=\"dataframe\">\n",
       "  <thead>\n",
       "    <tr style=\"text-align: right;\">\n",
       "      <th></th>\n",
       "      <th>diagnosis_result</th>\n",
       "      <th>radius</th>\n",
       "      <th>texture</th>\n",
       "      <th>perimeter</th>\n",
       "      <th>area</th>\n",
       "      <th>smoothness</th>\n",
       "      <th>compactness</th>\n",
       "      <th>symmetry</th>\n",
       "      <th>fractal_dimension</th>\n",
       "    </tr>\n",
       "  </thead>\n",
       "  <tbody>\n",
       "    <tr>\n",
       "      <th>0</th>\n",
       "      <td>M</td>\n",
       "      <td>1.266830</td>\n",
       "      <td>-1.205746</td>\n",
       "      <td>2.301611</td>\n",
       "      <td>0.789417</td>\n",
       "      <td>2.764210</td>\n",
       "      <td>2.486970</td>\n",
       "      <td>1.594151</td>\n",
       "      <td>1.764464</td>\n",
       "    </tr>\n",
       "    <tr>\n",
       "      <th>1</th>\n",
       "      <td>B</td>\n",
       "      <td>-1.617011</td>\n",
       "      <td>-1.012208</td>\n",
       "      <td>1.537520</td>\n",
       "      <td>1.958830</td>\n",
       "      <td>2.764210</td>\n",
       "      <td>-0.784061</td>\n",
       "      <td>-0.397314</td>\n",
       "      <td>-0.948199</td>\n",
       "    </tr>\n",
       "    <tr>\n",
       "      <th>2</th>\n",
       "      <td>M</td>\n",
       "      <td>0.854853</td>\n",
       "      <td>1.697335</td>\n",
       "      <td>1.410172</td>\n",
       "      <td>1.572169</td>\n",
       "      <td>1.528655</td>\n",
       "      <td>0.547364</td>\n",
       "      <td>0.451507</td>\n",
       "      <td>-0.578290</td>\n",
       "    </tr>\n",
       "    <tr>\n",
       "      <th>3</th>\n",
       "      <td>M</td>\n",
       "      <td>-0.587068</td>\n",
       "      <td>-0.431591</td>\n",
       "      <td>-0.797201</td>\n",
       "      <td>-0.996139</td>\n",
       "      <td>-2.246650</td>\n",
       "      <td>2.585594</td>\n",
       "      <td>2.181796</td>\n",
       "      <td>3.983916</td>\n",
       "    </tr>\n",
       "    <tr>\n",
       "      <th>4</th>\n",
       "      <td>M</td>\n",
       "      <td>-1.617011</td>\n",
       "      <td>0.149025</td>\n",
       "      <td>1.622419</td>\n",
       "      <td>1.867666</td>\n",
       "      <td>2.626926</td>\n",
       "      <td>0.103555</td>\n",
       "      <td>-0.397314</td>\n",
       "      <td>-0.701593</td>\n",
       "    </tr>\n",
       "  </tbody>\n",
       "</table>\n",
       "</div>"
      ],
      "text/plain": [
       "  diagnosis_result    radius   texture  perimeter      area  smoothness  \\\n",
       "0                M  1.266830 -1.205746   2.301611  0.789417    2.764210   \n",
       "1                B -1.617011 -1.012208   1.537520  1.958830    2.764210   \n",
       "2                M  0.854853  1.697335   1.410172  1.572169    1.528655   \n",
       "3                M -0.587068 -0.431591  -0.797201 -0.996139   -2.246650   \n",
       "4                M -1.617011  0.149025   1.622419  1.867666    2.626926   \n",
       "\n",
       "   compactness  symmetry  fractal_dimension  \n",
       "0     2.486970  1.594151           1.764464  \n",
       "1    -0.784061 -0.397314          -0.948199  \n",
       "2     0.547364  0.451507          -0.578290  \n",
       "3     2.585594  2.181796           3.983916  \n",
       "4     0.103555 -0.397314          -0.701593  "
      ]
     },
     "execution_count": 126,
     "metadata": {},
     "output_type": "execute_result"
    }
   ],
   "source": [
    "# Concatenando a coluna diagnosis_result com o dataset das features \n",
    "features_data = pd.concat([data['diagnosis_result'],scaled_features],axis=1)\n",
    "features_data.head()"
   ]
  },
  {
   "cell_type": "code",
   "execution_count": 127,
   "metadata": {},
   "outputs": [
    {
     "name": "stdout",
     "output_type": "stream",
     "text": [
      "(800, 3)\n"
     ]
    },
    {
     "data": {
      "text/html": [
       "<div>\n",
       "<style scoped>\n",
       "    .dataframe tbody tr th:only-of-type {\n",
       "        vertical-align: middle;\n",
       "    }\n",
       "\n",
       "    .dataframe tbody tr th {\n",
       "        vertical-align: top;\n",
       "    }\n",
       "\n",
       "    .dataframe thead th {\n",
       "        text-align: right;\n",
       "    }\n",
       "</style>\n",
       "<table border=\"1\" class=\"dataframe\">\n",
       "  <thead>\n",
       "    <tr style=\"text-align: right;\">\n",
       "      <th></th>\n",
       "      <th>diagnosis_result</th>\n",
       "      <th>features</th>\n",
       "      <th>value</th>\n",
       "    </tr>\n",
       "  </thead>\n",
       "  <tbody>\n",
       "    <tr>\n",
       "      <th>0</th>\n",
       "      <td>M</td>\n",
       "      <td>radius</td>\n",
       "      <td>1.266830</td>\n",
       "    </tr>\n",
       "    <tr>\n",
       "      <th>1</th>\n",
       "      <td>B</td>\n",
       "      <td>radius</td>\n",
       "      <td>-1.617011</td>\n",
       "    </tr>\n",
       "    <tr>\n",
       "      <th>2</th>\n",
       "      <td>M</td>\n",
       "      <td>radius</td>\n",
       "      <td>0.854853</td>\n",
       "    </tr>\n",
       "    <tr>\n",
       "      <th>3</th>\n",
       "      <td>M</td>\n",
       "      <td>radius</td>\n",
       "      <td>-0.587068</td>\n",
       "    </tr>\n",
       "    <tr>\n",
       "      <th>4</th>\n",
       "      <td>M</td>\n",
       "      <td>radius</td>\n",
       "      <td>-1.617011</td>\n",
       "    </tr>\n",
       "  </tbody>\n",
       "</table>\n",
       "</div>"
      ],
      "text/plain": [
       "  diagnosis_result features     value\n",
       "0                M   radius  1.266830\n",
       "1                B   radius -1.617011\n",
       "2                M   radius  0.854853\n",
       "3                M   radius -0.587068\n",
       "4                M   radius -1.617011"
      ]
     },
     "execution_count": 127,
     "metadata": {},
     "output_type": "execute_result"
    }
   ],
   "source": [
    "# Criando um novo dataset \n",
    "features_data = pd.melt(features_data,id_vars=\"diagnosis_result\",\n",
    "                    var_name=\"features\",\n",
    "                    value_name='value')\n",
    "print(features_data.shape)\n",
    "features_data.head()"
   ]
  },
  {
   "cell_type": "code",
   "execution_count": 128,
   "metadata": {},
   "outputs": [
    {
     "data": {
      "image/png": "[encoded data removed]",
      "text/plain": [
       "<Figure size 1008x576 with 1 Axes>"
      ]
     },
     "metadata": {
      "needs_background": "light"
     },
     "output_type": "display_data"
    }
   ],
   "source": [
    "plt.figure(figsize=(14,8))\n",
    "sns.boxplot(x=\"features\", y=\"value\", hue=\"diagnosis_result\", data=features_data)\n",
    "plt.show()"
   ]
  },
  {
   "cell_type": "markdown",
   "metadata": {},
   "source": [
    "### 2.6 Violinplot"
   ]
  },
  {
   "cell_type": "code",
   "execution_count": 129,
   "metadata": {},
   "outputs": [
    {
     "data": {
      "image/png": "[encoded data removed]",
      "text/plain": [
       "<Figure size 1008x576 with 1 Axes>"
      ]
     },
     "metadata": {
      "needs_background": "light"
     },
     "output_type": "display_data"
    }
   ],
   "source": [
    "plt.figure(figsize=(14,8))\n",
    "sns.violinplot(x=\"features\", y=\"value\", hue=\"diagnosis_result\", data=features_data, split=True, inner=\"quart\")\n",
    "plt.show()"
   ]
  },
  {
   "cell_type": "markdown",
   "metadata": {},
   "source": [
    "### 2.7 Swarmplot"
   ]
  },
  {
   "cell_type": "code",
   "execution_count": 130,
   "metadata": {},
   "outputs": [
    {
     "data": {
      "image/png": "[encoded data removed]",
      "text/plain": [
       "<Figure size 576x288 with 1 Axes>"
      ]
     },
     "metadata": {
      "needs_background": "light"
     },
     "output_type": "display_data"
    }
   ],
   "source": [
    "plt.figure(figsize=(8,4))\n",
    "sns.swarmplot(x=\"features\", y=\"value\", hue=\"diagnosis_result\", data=features_data)\n",
    "plt.xticks(rotation=45)\n",
    "plt.show()"
   ]
  },
  {
   "cell_type": "markdown",
   "metadata": {},
   "source": [
    "### 2.8 Analisando a correlação entre features que parecem similares"
   ]
  },
  {
   "cell_type": "code",
   "execution_count": 132,
   "metadata": {},
   "outputs": [
    {
     "data": {
      "text/plain": [
       "0.9766480772456855"
      ]
     },
     "execution_count": 132,
     "metadata": {},
     "output_type": "execute_result"
    }
   ],
   "source": [
    "data['perimeter'].corr(data['area'])"
   ]
  },
  {
   "cell_type": "code",
   "execution_count": 133,
   "metadata": {},
   "outputs": [
    {
     "data": {
      "image/png": "[encoded data removed]",
      "text/plain": [
       "<Figure size 432x432 with 3 Axes>"
      ]
     },
     "metadata": {
      "needs_background": "light"
     },
     "output_type": "display_data"
    }
   ],
   "source": [
    "sns.jointplot(data['perimeter'], data['area'], kind=\"regg\", color=\"#00DFFC\")\n",
    "plt.show()"
   ]
  },
  {
   "cell_type": "markdown",
   "metadata": {},
   "source": [
    "### Analisando a correlação entre as features a partir da matriz de correlação"
   ]
  },
  {
   "cell_type": "code",
   "execution_count": 145,
   "metadata": {},
   "outputs": [
    {
     "data": {
      "image/png": "[encoded data removed]",
      "text/plain": [
       "<Figure size 720x432 with 2 Axes>"
      ]
     },
     "metadata": {
      "needs_background": "light"
     },
     "output_type": "display_data"
    }
   ],
   "source": [
    "plt.subplots(figsize=(10, 6))\n",
    "sns.heatmap(data[data.columns[2:]].corr(), annot=True, linewidths=.5)\n",
    "plt.show()"
   ]
  },
  {
   "cell_type": "markdown",
   "metadata": {},
   "source": [
    "# Cenas dos próximos capítulos : Lidando com outliers + Feature Selection"
   ]
  },
  {
   "cell_type": "markdown",
   "metadata": {},
   "source": [
    "## Comentários ou Dúvidas?\n",
    "\n",
    "- Email: <suporte@viniciusgalvaoia.com.br>\n",
    "- Site: http://viniciusgalvaoia.com.br"
   ]
  },
  {
   "cell_type": "code",
   "execution_count": 1,
   "metadata": {},
   "outputs": [
    {
     "data": {
      "text/html": [
       "<style>\n",
       "    @font-face {\n",
       "        font-family: \"Computer Modern\";\n",
       "        src: url('http://mirrors.ctan.org/fonts/cm-unicode/fonts/otf/cmunss.otf');\n",
       "    }\n",
       "    div.cell{\n",
       "        width: 90%;\n",
       "/*        margin-left:auto;*/\n",
       "/*        margin-right:auto;*/\n",
       "    }\n",
       "    ul {\n",
       "        line-height: 145%;\n",
       "        font-size: 90%;\n",
       "    }\n",
       "    li {\n",
       "        margin-bottom: 1em;\n",
       "    }\n",
       "    h1 {\n",
       "        font-family: Helvetica, serif;\n",
       "    }\n",
       "    h4{\n",
       "        margin-top: 12px;\n",
       "        margin-bottom: 3px;\n",
       "       }\n",
       "    div.text_cell_render{\n",
       "        font-family: Computer Modern, \"Helvetica Neue\", Arial, Helvetica, Geneva, sans-serif;\n",
       "        line-height: 145%;\n",
       "        font-size: 130%;\n",
       "        width: 90%;\n",
       "        margin-left:auto;\n",
       "        margin-right:auto;\n",
       "    }\n",
       "    .CodeMirror{\n",
       "            font-family: \"Source Code Pro\", source-code-pro,Consolas, monospace;\n",
       "    }\n",
       "/*    .prompt{\n",
       "        display: None;\n",
       "    }*/\n",
       "    .text_cell_render h5 {\n",
       "        font-weight: 300;\n",
       "        font-size: 16pt;\n",
       "        color: #4057A1;\n",
       "        font-style: italic;\n",
       "        margin-bottom: 0.5em;\n",
       "        margin-top: 0.5em;\n",
       "        display: block;\n",
       "    }\n",
       "\n",
       "    .warning{\n",
       "        color: rgb( 240, 20, 20 )\n",
       "        }\n",
       "</style>\n",
       "<script>\n",
       "    MathJax.Hub.Config({\n",
       "                        TeX: {\n",
       "                           extensions: [\"AMSmath.js\"]\n",
       "                           },\n",
       "                tex2jax: {\n",
       "                    inlineMath: [ ['$','$'], [\"\\\\(\",\"\\\\)\"] ],\n",
       "                    displayMath: [ ['$$','$$'], [\"\\\\[\",\"\\\\]\"] ]\n",
       "                },\n",
       "                displayAlign: 'center', // Change this to 'center' to center equations.\n",
       "                \"HTML-CSS\": {\n",
       "                    styles: {'.MathJax_Display': {\"margin\": 4}}\n",
       "                }\n",
       "        });\n",
       "</script>"
      ],
      "text/plain": [
       "<IPython.core.display.HTML object>"
      ]
     },
     "execution_count": 1,
     "metadata": {},
     "output_type": "execute_result"
    }
   ],
   "source": [
    "from IPython.core.display import HTML\n",
    "def css_styling():\n",
    "    styles = open(\"styles/custom.css\", \"r\").read()\n",
    "    return HTML(styles)\n",
    "css_styling()"
   ]
  },
  {
   "cell_type": "code",
   "execution_count": 2,
   "metadata": {},
   "outputs": [],
   "source": [
    "import warnings\n",
    "warnings.filterwarnings('ignore')\n",
    "%matplotlib inline"
   ]
  }
 ],
 "metadata": {
  "kernelspec": {
   "display_name": "Python 3",
   "language": "python",
   "name": "python3"
  },
  "language_info": {
   "codemirror_mode": {
    "name": "ipython",
    "version": 3
   },
   "file_extension": ".py",
   "mimetype": "text/x-python",
   "name": "python",
   "nbconvert_exporter": "python",
   "pygments_lexer": "ipython3",
   "version": "3.6.5"
  }
 },
 "nbformat": 4,
 "nbformat_minor": 2
}
